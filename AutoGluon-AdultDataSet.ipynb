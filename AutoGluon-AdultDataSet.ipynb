{
 "cells": [
  {
   "cell_type": "markdown",
   "metadata": {},
   "source": [
    "AutoGluonのチュートリアルの1つテーブルデータでの予測を実施\n",
    "https://autogluon.mxnet.io/tutorials/tabular_prediction/tabular-quickstart.html\n",
    "\n",
    "本問題は収入が500万円（正確には$50,000）を超えるかどうかを予想する"
   ]
  },
  {
   "cell_type": "markdown",
   "metadata": {},
   "source": [
    "まずはAutoGluon実行に必要なライブラリを読み込む\n",
    "TabularPredictionはTable（CSVデータ）を読み込んで学習するモジュール"
   ]
  },
  {
   "cell_type": "code",
   "execution_count": 3,
   "metadata": {},
   "outputs": [],
   "source": [
    "import autogluon as ag\n",
    "from autogluon import TabularPrediction as task"
   ]
  },
  {
   "cell_type": "markdown",
   "metadata": {},
   "source": [
    "データセットをS3から読み込む\n",
    "データセットの内、先頭の500件を訓練用データセットとして使用する。\n",
    "ちなみにデータ内の各変数の説明は以下のURLに詳しく書いている\n",
    "https://archive.ics.uci.edu/ml/datasets/adult\n",
    "\n",
    "age:年齢\n",
    "workclass:\n",
    "fnlwgt:？？\n",
    "education:学歴\n",
    "education-num:\n",
    "marital-status:婚姻状況\n",
    "occupation:職業\n",
    "relationship:続柄\n",
    "race:人種\n",
    "sex:性別\n",
    "capital-gain:\n",
    "capital-loss:\n",
    "hours-per-week:1週間の労働時間\n",
    "native-country:出身国\n",
    "class:年収が500万を超える(>50K)かそれ以下(<=50K)か"
   ]
  },
  {
   "cell_type": "code",
   "execution_count": 4,
   "metadata": {},
   "outputs": [
    {
     "name": "stderr",
     "output_type": "stream",
     "text": [
      "Loaded data from: https://autogluon.s3.amazonaws.com/datasets/Inc/train.csv | Columns = 15 / 15 | Rows = 39073 -> 39073\n"
     ]
    },
    {
     "name": "stdout",
     "output_type": "stream",
     "text": [
      "   age   workclass  fnlwgt   education  education-num       marital-status  \\\n",
      "0   25     Private  178478   Bachelors             13        Never-married   \n",
      "1   23   State-gov   61743     5th-6th              3        Never-married   \n",
      "2   46     Private  376789     HS-grad              9        Never-married   \n",
      "3   55           ?  200235     HS-grad              9   Married-civ-spouse   \n",
      "4   36     Private  224541     7th-8th              4   Married-civ-spouse   \n",
      "\n",
      "           occupation    relationship    race      sex  capital-gain  \\\n",
      "0        Tech-support       Own-child   White   Female             0   \n",
      "1    Transport-moving   Not-in-family   White     Male             0   \n",
      "2       Other-service   Not-in-family   White     Male             0   \n",
      "3                   ?         Husband   White     Male             0   \n",
      "4   Handlers-cleaners         Husband   White     Male             0   \n",
      "\n",
      "   capital-loss  hours-per-week  native-country   class  \n",
      "0             0              40   United-States   <=50K  \n",
      "1             0              35   United-States   <=50K  \n",
      "2             0              15   United-States   <=50K  \n",
      "3             0              50   United-States    >50K  \n",
      "4             0              40     El-Salvador   <=50K  \n"
     ]
    }
   ],
   "source": [
    "train_data = task.Dataset(file_path='https://autogluon.s3.amazonaws.com/datasets/Inc/train.csv')\n",
    "train_data = train_data.head(500) # subsample 500 data points for faster demo\n",
    "print(train_data.head())"
   ]
  },
  {
   "cell_type": "markdown",
   "metadata": {},
   "source": [
    "予測する収入をラベルとして内容の確認を行う。\n",
    "内容を見るにタイプとしては50k以上か未満の2つしかないことがわかる。"
   ]
  },
  {
   "cell_type": "code",
   "execution_count": 5,
   "metadata": {},
   "outputs": [
    {
     "name": "stdout",
     "output_type": "stream",
     "text": [
      "Summary of class variable: \n",
      " count        500\n",
      "unique         2\n",
      "top        <=50K\n",
      "freq         394\n",
      "Name: class, dtype: object\n"
     ]
    }
   ],
   "source": [
    "label_column = 'class'\n",
    "print(\"Summary of class variable: \\n\", train_data[label_column].describe())"
   ]
  },
  {
   "cell_type": "markdown",
   "metadata": {},
   "source": [
    "fit関数を呼び出し訓練用データセットとラベルを設定し学習をさせる。\n",
    "ouput_directoryを指定することで学習したモデルを該当のディレクトリにアウトプットすることができる。"
   ]
  },
  {
   "cell_type": "code",
   "execution_count": 6,
   "metadata": {},
   "outputs": [
    {
     "name": "stderr",
     "output_type": "stream",
     "text": [
      "Beginning AutoGluon training ...\n",
      "AutoGluon will save models to agModels-predictClass/\n",
      "AutoGluon Version:  0.0.12\n",
      "Train Data Rows:    500\n",
      "Train Data Columns: 15\n",
      "Preprocessing data ...\n",
      "Here are the 2 unique label values in your data:  [' <=50K', ' >50K']\n",
      "AutoGluon infers your prediction problem is: binary  (because only two unique label-values observed).\n",
      "If this is wrong, please specify `problem_type` argument in fit() instead (You may specify problem_type as one of: ['binary', 'multiclass', 'regression'])\n",
      "\n",
      "Selected class <--> label mapping:  class 1 =  >50K, class 0 =  <=50K\n",
      "Train Data Class Count: 2\n",
      "Feature Generator processed 500 data points with 14 features\n",
      "Original Features (raw dtypes):\n",
      "\tint64 features: 6\n",
      "\tobject features: 8\n",
      "Original Features (inferred dtypes):\n",
      "\tint features: 6\n",
      "\tobject features: 8\n",
      "Generated Features (special dtypes):\n",
      "Final Features (raw dtypes):\n",
      "\tint features: 6\n",
      "\tcategory features: 8\n",
      "Final Features:\n",
      "\tint features: 6\n",
      "\tcategory features: 8\n",
      "\tData preprocessing and feature engineering runtime = 0.21s ...\n",
      "AutoGluon will gauge predictive performance using evaluation metric: accuracy\n",
      "To change this, specify the eval_metric argument of fit()\n",
      "AutoGluon will early stop models using evaluation metric: accuracy\n",
      "Fitting model: RandomForestClassifierGini ...\n",
      "\t0.84\t = Validation accuracy score\n",
      "\t0.83s\t = Training runtime\n",
      "\t0.12s\t = Validation runtime\n",
      "Fitting model: RandomForestClassifierEntr ...\n",
      "\t0.83\t = Validation accuracy score\n",
      "\t0.81s\t = Training runtime\n",
      "\t0.22s\t = Validation runtime\n",
      "Fitting model: ExtraTreesClassifierGini ...\n",
      "\t0.81\t = Validation accuracy score\n",
      "\t0.62s\t = Training runtime\n",
      "\t0.12s\t = Validation runtime\n",
      "Fitting model: ExtraTreesClassifierEntr ...\n",
      "\t0.84\t = Validation accuracy score\n",
      "\t0.58s\t = Training runtime\n",
      "\t0.24s\t = Validation runtime\n",
      "Fitting model: KNeighborsClassifierUnif ...\n",
      "\t0.8\t = Validation accuracy score\n",
      "\t0.02s\t = Training runtime\n",
      "\t0.12s\t = Validation runtime\n",
      "Fitting model: KNeighborsClassifierDist ...\n",
      "\t0.75\t = Validation accuracy score\n",
      "\t0.06s\t = Training runtime\n",
      "\t0.13s\t = Validation runtime\n",
      "Fitting model: LightGBMClassifier ...\n",
      "\t0.86\t = Validation accuracy score\n",
      "\t0.4s\t = Training runtime\n",
      "\t0.02s\t = Validation runtime\n",
      "Fitting model: CatboostClassifier ...\n",
      "\t0.85\t = Validation accuracy score\n",
      "\t0.88s\t = Training runtime\n",
      "\t0.01s\t = Validation runtime\n",
      "Fitting model: NeuralNetClassifier ...\n",
      "\t0.86\t = Validation accuracy score\n",
      "\t7.28s\t = Training runtime\n",
      "\t0.05s\t = Validation runtime\n",
      "Fitting model: LightGBMClassifierCustom ...\n",
      "\t0.84\t = Validation accuracy score\n",
      "\t0.79s\t = Training runtime\n",
      "\t0.02s\t = Validation runtime\n",
      "Fitting model: weighted_ensemble_k0_l1 ...\n",
      "\t0.88\t = Validation accuracy score\n",
      "\t0.6s\t = Training runtime\n",
      "\t0.0s\t = Validation runtime\n",
      "AutoGluon training complete, total runtime = 16.06s ...\n"
     ]
    }
   ],
   "source": [
    "dir = 'models/agModels-predictClass' # specifies folder where to store trained models\n",
    "predictor = task.fit(train_data=train_data, label=label_column, output_directory=dir)"
   ]
  },
  {
   "cell_type": "markdown",
   "metadata": {},
   "source": [
    "次にS3のデータから検証データセットを作成する。\n",
    "drop関数を使用することでラベルを削除して訓練データセットと形式を合わす。\n",
    "個人的に気になるのは検証データはオリジナルとなるS3の全データを使用しているが、この中に訓練用データセットも含まれている。\n",
    "それって駄目なのでは？？"
   ]
  },
  {
   "cell_type": "code",
   "execution_count": 7,
   "metadata": {},
   "outputs": [
    {
     "name": "stderr",
     "output_type": "stream",
     "text": [
      "Loaded data from: https://autogluon.s3.amazonaws.com/datasets/Inc/test.csv | Columns = 15 / 15 | Rows = 9769 -> 9769\n"
     ]
    },
    {
     "name": "stdout",
     "output_type": "stream",
     "text": [
      "   age          workclass  fnlwgt      education  education-num  \\\n",
      "0   31            Private  169085           11th              7   \n",
      "1   17   Self-emp-not-inc  226203           12th              8   \n",
      "2   47            Private   54260      Assoc-voc             11   \n",
      "3   21            Private  176262   Some-college             10   \n",
      "4   17            Private  241185           12th              8   \n",
      "\n",
      "        marital-status        occupation relationship    race      sex  \\\n",
      "0   Married-civ-spouse             Sales         Wife   White   Female   \n",
      "1        Never-married             Sales    Own-child   White     Male   \n",
      "2   Married-civ-spouse   Exec-managerial      Husband   White     Male   \n",
      "3        Never-married   Exec-managerial    Own-child   White   Female   \n",
      "4        Never-married    Prof-specialty    Own-child   White     Male   \n",
      "\n",
      "   capital-gain  capital-loss  hours-per-week  native-country   class  \n",
      "0             0             0              20   United-States   <=50K  \n",
      "1             0             0              45   United-States   <=50K  \n",
      "2             0          1887              60   United-States    >50K  \n",
      "3             0             0              30   United-States   <=50K  \n",
      "4             0             0              20   United-States   <=50K  \n",
      "   age          workclass  fnlwgt      education  education-num  \\\n",
      "0   31            Private  169085           11th              7   \n",
      "1   17   Self-emp-not-inc  226203           12th              8   \n",
      "2   47            Private   54260      Assoc-voc             11   \n",
      "3   21            Private  176262   Some-college             10   \n",
      "4   17            Private  241185           12th              8   \n",
      "\n",
      "        marital-status        occupation relationship    race      sex  \\\n",
      "0   Married-civ-spouse             Sales         Wife   White   Female   \n",
      "1        Never-married             Sales    Own-child   White     Male   \n",
      "2   Married-civ-spouse   Exec-managerial      Husband   White     Male   \n",
      "3        Never-married   Exec-managerial    Own-child   White   Female   \n",
      "4        Never-married    Prof-specialty    Own-child   White     Male   \n",
      "\n",
      "   capital-gain  capital-loss  hours-per-week  native-country  \n",
      "0             0             0              20   United-States  \n",
      "1             0             0              45   United-States  \n",
      "2             0          1887              60   United-States  \n",
      "3             0             0              30   United-States  \n",
      "4             0             0              20   United-States  \n"
     ]
    }
   ],
   "source": [
    "test_data = task.Dataset(file_path='https://autogluon.s3.amazonaws.com/datasets/Inc/test.csv')\n",
    "y_test = test_data[label_column]  # values to predict\n",
    "# dropで訓練データセットと合わす\n",
    "test_data_nolab = test_data.drop(labels=[label_column],axis=1) # delete label column to prove we're not cheating\n",
    "print(test_data.head())\n",
    "print(test_data_nolab.head())"
   ]
  },
  {
   "cell_type": "markdown",
   "metadata": {},
   "source": [
    "学習し作成したモデルはpredictorという変数に格納したが、ディレクトリに出力したものからロードすることも可能。\n",
    "ロードしたモデルからpredict関数を実行することで検証用データから予想を行う。\n",
    "またevaluate_predictionsで予想した結果と実際の値から評価をする。"
   ]
  },
  {
   "cell_type": "code",
   "execution_count": 8,
   "metadata": {},
   "outputs": [
    {
     "name": "stderr",
     "output_type": "stream",
     "text": [
      "Evaluation: accuracy on test data: 0.8117514586958747\n",
      "Evaluations on test data:\n",
      "{\n",
      "    \"accuracy\": 0.8117514586958747,\n",
      "    \"accuracy_score\": 0.8117514586958747,\n",
      "    \"balanced_accuracy_score\": 0.6263545355685329,\n",
      "    \"matthews_corrcoef\": 0.39455555206800325,\n",
      "    \"f1_score\": 0.8117514586958747\n",
      "}\n"
     ]
    },
    {
     "name": "stdout",
     "output_type": "stream",
     "text": [
      "Predictions:   [' <=50K' ' <=50K' ' <=50K' ... ' <=50K' ' <=50K' ' <=50K']\n"
     ]
    },
    {
     "name": "stderr",
     "output_type": "stream",
     "text": [
      "Detailed (per-class) classification report:\n",
      "{\n",
      "    \" <=50K\": {\n",
      "        \"precision\": 0.8124721603563474,\n",
      "        \"recall\": 0.9791974231646758,\n",
      "        \"f1-score\": 0.8880774146430527,\n",
      "        \"support\": 7451\n",
      "    },\n",
      "    \" >50K\": {\n",
      "        \"precision\": 0.8035487959442332,\n",
      "        \"recall\": 0.27351164797238997,\n",
      "        \"f1-score\": 0.4081107177341487,\n",
      "        \"support\": 2318\n",
      "    },\n",
      "    \"accuracy\": 0.8117514586958747,\n",
      "    \"macro avg\": {\n",
      "        \"precision\": 0.8080104781502904,\n",
      "        \"recall\": 0.6263545355685329,\n",
      "        \"f1-score\": 0.6480940661886007,\n",
      "        \"support\": 9769\n",
      "    },\n",
      "    \"weighted avg\": {\n",
      "        \"precision\": 0.8103548137796988,\n",
      "        \"recall\": 0.8117514586958747,\n",
      "        \"f1-score\": 0.7741903429433045,\n",
      "        \"support\": 9769\n",
      "    }\n",
      "}\n"
     ]
    }
   ],
   "source": [
    "predictor = task.load(dir) # unnecessary, just demonstrates how to load previously-trained predictor from file\n",
    "\n",
    "y_pred = predictor.predict(test_data_nolab)\n",
    "print(\"Predictions:  \", y_pred)\n",
    "perf = predictor.evaluate_predictions(y_true=y_test, y_pred=y_pred, auxiliary_metrics=True)"
   ]
  },
  {
   "cell_type": "markdown",
   "metadata": {},
   "source": [
    "fit_summary関数を使用することで学習過程の概要が表示できる"
   ]
  },
  {
   "cell_type": "code",
   "execution_count": 10,
   "metadata": {},
   "outputs": [
    {
     "name": "stdout",
     "output_type": "stream",
     "text": [
      "*** Summary of fit() ***\n",
      "Estimated performance of each model:\n",
      "                         model  score_val  pred_time_val   fit_time  pred_time_val_marginal  fit_time_marginal  stack_level  can_infer\n",
      "0      weighted_ensemble_k0_l1       0.88       0.438152  10.342503                0.001542           0.599641            1       True\n",
      "1           LightGBMClassifier       0.86       0.015446   0.398098                0.015446           0.398098            0       True\n",
      "2          NeuralNetClassifier       0.86       0.046011   7.275923                0.046011           7.275923            0       True\n",
      "3           CatboostClassifier       0.85       0.014026   0.876040                0.014026           0.876040            0       True\n",
      "4     LightGBMClassifierCustom       0.84       0.020979   0.789966                0.020979           0.789966            0       True\n",
      "5   RandomForestClassifierGini       0.84       0.124382   0.828404                0.124382           0.828404            0       True\n",
      "6     ExtraTreesClassifierEntr       0.84       0.238309   0.575630                0.238309           0.575630            0       True\n",
      "7   RandomForestClassifierEntr       0.83       0.224011   0.808601                0.224011           0.808601            0       True\n",
      "8     ExtraTreesClassifierGini       0.81       0.122818   0.617172                0.122818           0.617172            0       True\n",
      "9     KNeighborsClassifierUnif       0.80       0.119032   0.021286                0.119032           0.021286            0       True\n",
      "10    KNeighborsClassifierDist       0.75       0.128072   0.063841                0.128072           0.063841            0       True\n",
      "Number of models trained: 11\n",
      "Types of models trained:\n",
      "{'RFModel', 'XTModel', 'WeightedEnsembleModel', 'LGBModel', 'KNNModel', 'CatboostModel', 'TabularNeuralNetModel'}\n",
      "Bagging used: False \n",
      "Stack-ensembling used: False \n",
      "Hyperparameter-tuning used: False \n",
      "User-specified hyperparameters:\n",
      "{'default': {'NN': [{}], 'GBM': [{}], 'CAT': [{}], 'RF': [{'criterion': 'gini', 'AG_args': {'name_suffix': 'Gini', 'problem_types': ['binary', 'multiclass']}}, {'criterion': 'entropy', 'AG_args': {'name_suffix': 'Entr', 'problem_types': ['binary', 'multiclass']}}], 'XT': [{'criterion': 'gini', 'AG_args': {'name_suffix': 'Gini', 'problem_types': ['binary', 'multiclass']}}, {'criterion': 'entropy', 'AG_args': {'name_suffix': 'Entr', 'problem_types': ['binary', 'multiclass']}}], 'KNN': [{'weights': 'uniform', 'AG_args': {'name_suffix': 'Unif'}}, {'weights': 'distance', 'AG_args': {'name_suffix': 'Dist'}}], 'custom': [{'num_boost_round': 10000, 'num_threads': -1, 'objective': 'binary', 'verbose': -1, 'boosting_type': 'gbdt', 'learning_rate': 0.03, 'num_leaves': 128, 'feature_fraction': 0.9, 'min_data_in_leaf': 5, 'two_round': True, 'seed_value': 0, 'AG_args': {'model_type': 'GBM', 'name_suffix': 'Custom', 'disable_in_hpo': True}}]}}\n",
      "*** End of fit() summary ***\n",
      "{'model_types': {'RandomForestClassifierGini': 'RFModel', 'RandomForestClassifierEntr': 'RFModel', 'ExtraTreesClassifierGini': 'XTModel', 'ExtraTreesClassifierEntr': 'XTModel', 'KNeighborsClassifierUnif': 'KNNModel', 'KNeighborsClassifierDist': 'KNNModel', 'LightGBMClassifier': 'LGBModel', 'CatboostClassifier': 'CatboostModel', 'NeuralNetClassifier': 'TabularNeuralNetModel', 'LightGBMClassifierCustom': 'LGBModel', 'weighted_ensemble_k0_l1': 'WeightedEnsembleModel'}, 'model_performance': {'RandomForestClassifierGini': 0.84, 'RandomForestClassifierEntr': 0.83, 'ExtraTreesClassifierGini': 0.81, 'ExtraTreesClassifierEntr': 0.84, 'KNeighborsClassifierUnif': 0.8, 'KNeighborsClassifierDist': 0.75, 'LightGBMClassifier': 0.86, 'CatboostClassifier': 0.85, 'NeuralNetClassifier': 0.86, 'LightGBMClassifierCustom': 0.84, 'weighted_ensemble_k0_l1': 0.88}, 'model_best': 'weighted_ensemble_k0_l1', 'model_paths': {'RandomForestClassifierGini': 'agModels-predictClass/models/RandomForestClassifierGini/', 'RandomForestClassifierEntr': 'agModels-predictClass/models/RandomForestClassifierEntr/', 'ExtraTreesClassifierGini': 'agModels-predictClass/models/ExtraTreesClassifierGini/', 'ExtraTreesClassifierEntr': 'agModels-predictClass/models/ExtraTreesClassifierEntr/', 'KNeighborsClassifierUnif': 'agModels-predictClass/models/KNeighborsClassifierUnif/', 'KNeighborsClassifierDist': 'agModels-predictClass/models/KNeighborsClassifierDist/', 'LightGBMClassifier': 'agModels-predictClass/models/LightGBMClassifier/', 'CatboostClassifier': 'agModels-predictClass/models/CatboostClassifier/', 'NeuralNetClassifier': 'agModels-predictClass/models/NeuralNetClassifier/', 'LightGBMClassifierCustom': 'agModels-predictClass/models/LightGBMClassifierCustom/', 'weighted_ensemble_k0_l1': 'agModels-predictClass/models/weighted_ensemble_k0_l1/'}, 'model_fit_times': {'RandomForestClassifierGini': 0.8284041881561279, 'RandomForestClassifierEntr': 0.8086013793945312, 'ExtraTreesClassifierGini': 0.6171717643737793, 'ExtraTreesClassifierEntr': 0.5756301879882812, 'KNeighborsClassifierUnif': 0.021286487579345703, 'KNeighborsClassifierDist': 0.06384086608886719, 'LightGBMClassifier': 0.39809751510620117, 'CatboostClassifier': 0.8760395050048828, 'NeuralNetClassifier': 7.275922536849976, 'LightGBMClassifierCustom': 0.7899658679962158, 'weighted_ensemble_k0_l1': 0.5996413230895996}, 'model_pred_times': {'RandomForestClassifierGini': 0.12438225746154785, 'RandomForestClassifierEntr': 0.22401070594787598, 'ExtraTreesClassifierGini': 0.1228182315826416, 'ExtraTreesClassifierEntr': 0.23830866813659668, 'KNeighborsClassifierUnif': 0.11903238296508789, 'KNeighborsClassifierDist': 0.12807202339172363, 'LightGBMClassifier': 0.015445709228515625, 'CatboostClassifier': 0.014026165008544922, 'NeuralNetClassifier': 0.04601120948791504, 'LightGBMClassifierCustom': 0.020978689193725586, 'weighted_ensemble_k0_l1': 0.0015416145324707031}, 'num_bagging_folds': 0, 'stack_ensemble_levels': 0, 'feature_prune': False, 'hyperparameter_tune': False, 'hyperparameters_userspecified': {'default': {'NN': [{}], 'GBM': [{}], 'CAT': [{}], 'RF': [{'criterion': 'gini', 'AG_args': {'name_suffix': 'Gini', 'problem_types': ['binary', 'multiclass']}}, {'criterion': 'entropy', 'AG_args': {'name_suffix': 'Entr', 'problem_types': ['binary', 'multiclass']}}], 'XT': [{'criterion': 'gini', 'AG_args': {'name_suffix': 'Gini', 'problem_types': ['binary', 'multiclass']}}, {'criterion': 'entropy', 'AG_args': {'name_suffix': 'Entr', 'problem_types': ['binary', 'multiclass']}}], 'KNN': [{'weights': 'uniform', 'AG_args': {'name_suffix': 'Unif'}}, {'weights': 'distance', 'AG_args': {'name_suffix': 'Dist'}}], 'custom': [{'num_boost_round': 10000, 'num_threads': -1, 'objective': 'binary', 'verbose': -1, 'boosting_type': 'gbdt', 'learning_rate': 0.03, 'num_leaves': 128, 'feature_fraction': 0.9, 'min_data_in_leaf': 5, 'two_round': True, 'seed_value': 0, 'AG_args': {'model_type': 'GBM', 'name_suffix': 'Custom', 'disable_in_hpo': True}}]}}, 'num_classes': 2, 'model_hyperparams': {'RandomForestClassifierGini': {'n_estimators': 300, 'n_jobs': -1, 'criterion': 'gini'}, 'RandomForestClassifierEntr': {'n_estimators': 300, 'n_jobs': -1, 'criterion': 'entropy'}, 'ExtraTreesClassifierGini': {'n_estimators': 300, 'n_jobs': -1, 'criterion': 'gini'}, 'ExtraTreesClassifierEntr': {'n_estimators': 300, 'n_jobs': -1, 'criterion': 'entropy'}, 'KNeighborsClassifierUnif': {'weights': 'uniform', 'n_jobs': -1}, 'KNeighborsClassifierDist': {'weights': 'distance', 'n_jobs': -1}, 'LightGBMClassifier': {'num_boost_round': 10000, 'num_threads': -1, 'objective': 'binary', 'verbose': -1, 'boosting_type': 'gbdt', 'two_round': True}, 'CatboostClassifier': {'iterations': 10000, 'learning_rate': 0.1, 'random_seed': 0, 'eval_metric': 'Accuracy', 'allow_writing_files': False}, 'NeuralNetClassifier': {'num_epochs': 500, 'epochs_wo_improve': 20, 'seed_value': None, 'proc.embed_min_categories': 4, 'proc.impute_strategy': 'median', 'proc.max_category_levels': 100, 'proc.skew_threshold': 0.99, 'network_type': 'widedeep', 'layers': None, 'numeric_embed_dim': None, 'activation': 'relu', 'max_layer_width': 2056, 'embedding_size_factor': 1.0, 'embed_exponent': 0.56, 'max_embedding_dim': 100, 'y_range': None, 'y_range_extend': 0.05, 'use_batchnorm': True, 'dropout_prob': 0.1, 'batch_size': 512, 'loss_function': None, 'optimizer': 'adam', 'learning_rate': 0.0003, 'weight_decay': 1e-06, 'clip_gradient': 100.0, 'momentum': 0.9, 'lr_scheduler': None, 'base_lr': 3e-05, 'target_lr': 1.0, 'lr_decay': 0.1, 'warmup_epochs': 10, 'use_ngram_features': False}, 'LightGBMClassifierCustom': {'num_boost_round': 10000, 'num_threads': -1, 'objective': 'binary', 'verbose': -1, 'boosting_type': 'gbdt', 'two_round': True, 'learning_rate': 0.03, 'num_leaves': 128, 'feature_fraction': 0.9, 'min_data_in_leaf': 5, 'seed_value': 0}, 'weighted_ensemble_k0_l1': {'max_models': 25, 'max_models_per_type': 5}}, 'leaderboard':                          model  score_val  pred_time_val   fit_time  \\\n",
      "0      weighted_ensemble_k0_l1       0.88       0.438152  10.342503   \n",
      "1           LightGBMClassifier       0.86       0.015446   0.398098   \n",
      "2          NeuralNetClassifier       0.86       0.046011   7.275923   \n",
      "3           CatboostClassifier       0.85       0.014026   0.876040   \n",
      "4     LightGBMClassifierCustom       0.84       0.020979   0.789966   \n",
      "5   RandomForestClassifierGini       0.84       0.124382   0.828404   \n",
      "6     ExtraTreesClassifierEntr       0.84       0.238309   0.575630   \n",
      "7   RandomForestClassifierEntr       0.83       0.224011   0.808601   \n",
      "8     ExtraTreesClassifierGini       0.81       0.122818   0.617172   \n",
      "9     KNeighborsClassifierUnif       0.80       0.119032   0.021286   \n",
      "10    KNeighborsClassifierDist       0.75       0.128072   0.063841   \n",
      "\n",
      "    pred_time_val_marginal  fit_time_marginal  stack_level  can_infer  \n",
      "0                 0.001542           0.599641            1       True  \n",
      "1                 0.015446           0.398098            0       True  \n",
      "2                 0.046011           7.275923            0       True  \n",
      "3                 0.014026           0.876040            0       True  \n",
      "4                 0.020979           0.789966            0       True  \n",
      "5                 0.124382           0.828404            0       True  \n",
      "6                 0.238309           0.575630            0       True  \n",
      "7                 0.224011           0.808601            0       True  \n",
      "8                 0.122818           0.617172            0       True  \n",
      "9                 0.119032           0.021286            0       True  \n",
      "10                0.128072           0.063841            0       True  }\n"
     ]
    },
    {
     "name": "stderr",
     "output_type": "stream",
     "text": [
      "/usr/local/lib/python3.6/dist-packages/autogluon/utils/plots.py:141: UserWarning: AutoGluon summary plots cannot be created because bokeh is not installed. To see plots, please do: \"pip install bokeh==2.0.1\"\n",
      "  warnings.warn('AutoGluon summary plots cannot be created because bokeh is not installed. To see plots, please do: \"pip install bokeh==2.0.1\"')\n"
     ]
    }
   ],
   "source": [
    "print(predictor.fit_summary())"
   ]
  }
 ],
 "metadata": {
  "kernelspec": {
   "display_name": "Python 3",
   "language": "python",
   "name": "python3"
  },
  "language_info": {
   "codemirror_mode": {
    "name": "ipython",
    "version": 3
   },
   "file_extension": ".py",
   "mimetype": "text/x-python",
   "name": "python",
   "nbconvert_exporter": "python",
   "pygments_lexer": "ipython3",
   "version": "3.6.9"
  }
 },
 "nbformat": 4,
 "nbformat_minor": 2
}
